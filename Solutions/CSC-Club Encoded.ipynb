{
 "cells": [
  {
   "cell_type": "markdown",
   "id": "59769ffc-a039-4f48-ab79-30d5c845c523",
   "metadata": {
    "tags": []
   },
   "source": [
    "# Caesarean Cipher Riddle (no imports needed)"
   ]
  },
  {
   "cell_type": "markdown",
   "id": "560fc370-154d-4dbe-b2ee-381aceed76ee",
   "metadata": {},
   "source": [
    "**Hints:**\n",
    "- I recommend using the \".replace()\" function to remove the \"new line character\" at the end of each of these lines when using the \".readline()\" function if you choose to use python"
   ]
  },
  {
   "cell_type": "code",
   "execution_count": 3,
   "id": "dedf815d-3907-4855-b428-1163bf4ac74c",
   "metadata": {},
   "outputs": [],
   "source": [
    "# these lines are used to check which files are in a directory\n",
    "#import os\n",
    "#os.listdir('./files')"
   ]
  },
  {
   "cell_type": "markdown",
   "id": "ef92a4a9-3b7a-4c80-99e9-0d58daaf1191",
   "metadata": {
    "jp-MarkdownHeadingCollapsed": true,
    "tags": []
   },
   "source": [
    "## Creat the Coded File"
   ]
  },
  {
   "cell_type": "code",
   "execution_count": 1,
   "id": "f0a55d03-ca37-4a69-b172-966a9d52e07a",
   "metadata": {},
   "outputs": [],
   "source": [
    "def encode(str):\n",
    "    \"\"\"\n",
    "    This function shifts the ASCII key of every letter of a string by +5 places\n",
    "    \"\"\"\n",
    "    out = \"\"\n",
    "    for x in str:\n",
    "        out += chr(ord(x) + 5) # without ignoring ascii, an error is thrown\n",
    "    return f'{out}'"
   ]
  },
  {
   "cell_type": "code",
   "execution_count": 2,
   "id": "a874f824-eeb9-43e5-8c79-f7644f1ca9ee",
   "metadata": {},
   "outputs": [
    {
     "name": "stdout",
     "output_type": "stream",
     "text": [
      "Htslwfyzqfyntsx&%^tz%mf{j%htruqjyji%ymj%knwxy%yfxp3\n",
      "^tz%|nqq%gj%wjvznwji%yt%xmt|%~tzw%xtqzynts%yt%ymnx%yfxp%yt%ymj%lwfijw%|mjs%~tz%htruqjyj%fqq%ymj%hmfqqjsljx%yt%hqfnr%~tzw%uwnj3\n",
      "Fy%ymnx%|jguflj%~tz%|nqq%knsi%~tzw%sj}y%hqzj?\n",
      "myyu?446538739;368=?=5554lfrj3myrq\n",
      "Ltfq?\n",
      "2%Hts{jwy%fqq%ymj%5,x%yt%6,x%g~%y~unsl%ns%ymj%Htwwjhy%Htrgnsfynts%tk%Qjyyjwx\n",
      "2%Fkyjw%itnsl%xt1%f%knqj%|nqq%gj%it|sqtfiji%yt%~tzw%htruzyjw%fzytrfynhfqq~\n",
      "Hqzjx?\n",
      "2%Qjyyjwx%rzxy%gj%y~uji%ns%fqq%hfux\n",
      "2%Pjju%ywfhp%tk%ymj%qjyyjwx%~tz%zxj%fsi%ymj%twijw%ns%|mnhm%~tz%zxj%ymjr\n",
      "2%^tz%rzxy%gj%htssjhyji%yt%ymj%\\fgfxm%Sjy|twp\n",
      "2%Ymj%|jgxnyj%nx%sty%ktwrfyyji%ktw%mfsimjqi%ij{nhjx\n",
      "Wzqjx?\n",
      "2%Rtink~nsl%ymj%MYRQ%nx%uwtmngnyji\n",
      "2%Ymj%qjyyjw%htrgnsfynts%~tz%zxj%rzxy%gj%uwt{niji%yt%ymj%lwfijw%fx%j{nijshj%ymfy%~tz%ini%sty%hmjfy\n",
      "\n"
     ]
    }
   ],
   "source": [
    "# create a new file for writing to\n",
    "f1 = open('./files/secret_code_original.txt','r')\n",
    "\n",
    "while True:\n",
    "    line = f1.readline().replace(\"\\n\",\"\") # read the line\n",
    "    print(encode(line)) # print the line\n",
    "    if line ==\"\": # if last line: break\n",
    "        break\n",
    "    \n",
    "f1.close()"
   ]
  },
  {
   "cell_type": "markdown",
   "id": "9a48b167-a6d6-4e91-ab8d-1b7ca23ff998",
   "metadata": {
    "jp-MarkdownHeadingCollapsed": true,
    "tags": []
   },
   "source": [
    "## Decode the File"
   ]
  },
  {
   "cell_type": "code",
   "execution_count": 1,
   "id": "a9265fe8-38d0-4dee-b246-f8eabc7602e1",
   "metadata": {},
   "outputs": [],
   "source": [
    "def decode(str):\n",
    "    \"\"\"\n",
    "    This function shifts the ASCII key of every letter of a string by -5 places\n",
    "    \"\"\"\n",
    "    out = \"\"\n",
    "    for x in str:\n",
    "        out += chr(ord(x) - 5) # without ignoring ascii, an error is thrown\n",
    "    return f'{out}'"
   ]
  },
  {
   "cell_type": "code",
   "execution_count": 2,
   "id": "3d469394-704b-4a7e-8444-a3f54b65c595",
   "metadata": {},
   "outputs": [
    {
     "name": "stdout",
     "output_type": "stream",
     "text": [
      "Congratulations! You have completed the first task.\n",
      "You will be required to show your solution to this task to the grader when you complete all the challenges to claim your prize.\n",
      "At this webpage you will find your next clue:\n",
      "http://10.32.46.138:8000/game.html\n",
      "Goal:\n",
      "- Convert all the 0's to 1's by typing in the Correct Combination of Letters\n",
      "- After doing so, a file will be downloaded to your computer automatically\n",
      "Clues:\n",
      "- Letters must be typed in all caps\n",
      "- Keep track of the letters you use and the order in which you use them\n",
      "- You must be connected to the Wabash Network\n",
      "- The website is not formatted for handheld devices\n",
      "Rules:\n",
      "- Modifying the HTML is prohibited\n",
      "- The letter combination you use must be provided to the grader as evidence that you did not cheat\n",
      "\n"
     ]
    }
   ],
   "source": [
    "# create a new file for writing to\n",
    "f2 = open('./files/secret_code.txt','r')\n",
    "\n",
    "while True:\n",
    "    line = f2.readline().replace(\"\\n\",\"\") # read the line\n",
    "    print(decode(line)) # print the line\n",
    "    if line ==\"\": # if last line: break\n",
    "        break\n",
    "        \n",
    "f2.close()"
   ]
  },
  {
   "cell_type": "markdown",
   "id": "58575baf-366f-45ba-a2cc-3cb8aa68b827",
   "metadata": {
    "tags": []
   },
   "source": [
    "# QR CODE SCRAMBLER"
   ]
  },
  {
   "cell_type": "code",
   "execution_count": 6,
   "id": "1214906c-3b41-47f3-8ccb-455be0ded4c3",
   "metadata": {},
   "outputs": [],
   "source": [
    "import numpy as np\n",
    "from skimage import io\n",
    "import matplotlib.pyplot as plt\n",
    "import pandas as pd"
   ]
  },
  {
   "cell_type": "markdown",
   "id": "ea5ab917-c536-4bd7-9718-950fadc1f24a",
   "metadata": {
    "jp-MarkdownHeadingCollapsed": true,
    "tags": []
   },
   "source": [
    "## Problem"
   ]
  },
  {
   "cell_type": "code",
   "execution_count": 10,
   "id": "8653c217-566d-49ed-9591-d395a0eabc37",
   "metadata": {},
   "outputs": [
    {
     "data": {
      "text/plain": [
       "(200, 200, 3)"
      ]
     },
     "execution_count": 10,
     "metadata": {},
     "output_type": "execute_result"
    },
    {
     "data": {
      "image/png": "[encoded data removed]",
      "text/plain": [
       "<Figure size 432x288 with 1 Axes>"
      ]
     },
     "metadata": {
      "needs_background": "light"
     },
     "output_type": "display_data"
    }
   ],
   "source": [
    "image = io.imread('./files/form.png')[:,:,:3]\n",
    "plt.imshow(image)\n",
    "image.shape# show the results"
   ]
  },
  {
   "cell_type": "code",
   "execution_count": 16,
   "id": "58b82304-9c7a-4ab3-9a0d-b371b3c95d1e",
   "metadata": {},
   "outputs": [],
   "source": [
    "white = {\"x\": [], \"y\": [],\"val\":[]}\n",
    "\n",
    "w = len(image[0]) \n",
    "h = len(image[:,0])\n",
    "for i in range(h):\n",
    "    for j in range(w):\n",
    "        if image[i,j][0] == 0:\n",
    "            white[\"x\"].append(i)\n",
    "            white[\"y\"].append(j)\n",
    "            white[\"val\"].append(1)\n",
    "        else:\n",
    "            white[\"x\"].append(i)\n",
    "            white[\"y\"].append(j)\n",
    "            white[\"val\"].append(0)\n",
    "\n",
    "#plt.imshow(image) # show the results"
   ]
  },
  {
   "cell_type": "code",
   "execution_count": 17,
   "id": "9f25ed15-95fd-4c19-8403-5ffa9ac2df2e",
   "metadata": {},
   "outputs": [],
   "source": [
    "df = pd.DataFrame(white)\n",
    "df.to_csv('./files/white.csv',index = False)\n",
    "#df"
   ]
  },
  {
   "cell_type": "markdown",
   "id": "4d069552-6cd3-4cea-8b87-774e2803d6aa",
   "metadata": {
    "jp-MarkdownHeadingCollapsed": true,
    "tags": []
   },
   "source": [
    "## Solution"
   ]
  },
  {
   "cell_type": "code",
   "execution_count": 18,
   "id": "ebfa01c7-85dc-4f09-a3bf-fdaacb11eb64",
   "metadata": {},
   "outputs": [],
   "source": [
    "df2 = pd.read_csv('./files/white.csv')\n",
    "df2 = df2[df2[\"val\"] == 0]"
   ]
  },
  {
   "cell_type": "code",
   "execution_count": 19,
   "id": "969184c6-a822-412b-87e0-597373fc9718",
   "metadata": {},
   "outputs": [],
   "source": [
    "qr = np.zeros([200,200,3], dtype=np.uint8)"
   ]
  },
  {
   "cell_type": "code",
   "execution_count": 20,
   "id": "00095775-14e6-4901-900b-7a942d9b63ab",
   "metadata": {
    "tags": []
   },
   "outputs": [
    {
     "data": {
      "text/plain": [
       "<matplotlib.image.AxesImage at 0x2baec0fb400>"
      ]
     },
     "execution_count": 20,
     "metadata": {},
     "output_type": "execute_result"
    },
    {
     "data": {
      "image/png": "[encoded data removed]",
      "text/plain": [
       "<Figure size 432x288 with 1 Axes>"
      ]
     },
     "metadata": {
      "needs_background": "light"
     },
     "output_type": "display_data"
    }
   ],
   "source": [
    "for index, row in df2.iterrows():\n",
    "    qr[row['x'], row['y']] = [255,255,255]\n",
    "plt.imshow(qr) # show the results"
   ]
  },
  {
   "cell_type": "code",
   "execution_count": null,
   "id": "b15d26d6-57ee-4240-a4ad-5f48083c7def",
   "metadata": {},
   "outputs": [],
   "source": []
  }
 ],
 "metadata": {
  "kernelspec": {
   "display_name": "Python 3 (ipykernel)",
   "language": "python",
   "name": "python3"
  },
  "language_info": {
   "codemirror_mode": {
    "name": "ipython",
    "version": 3
   },
   "file_extension": ".py",
   "mimetype": "text/x-python",
   "name": "python",
   "nbconvert_exporter": "python",
   "pygments_lexer": "ipython3",
   "version": "3.9.1"
  }
 },
 "nbformat": 4,
 "nbformat_minor": 5
}
